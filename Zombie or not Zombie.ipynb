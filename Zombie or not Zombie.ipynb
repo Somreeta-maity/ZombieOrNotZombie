{
 "cells": [
  {
   "cell_type": "code",
   "execution_count": 56,
   "metadata": {},
   "outputs": [
    {
     "data": {
      "text/html": [
       "<div>\n",
       "<style scoped>\n",
       "    .dataframe tbody tr th:only-of-type {\n",
       "        vertical-align: middle;\n",
       "    }\n",
       "\n",
       "    .dataframe tbody tr th {\n",
       "        vertical-align: top;\n",
       "    }\n",
       "\n",
       "    .dataframe thead th {\n",
       "        text-align: right;\n",
       "    }\n",
       "</style>\n",
       "<table border=\"1\" class=\"dataframe\">\n",
       "  <thead>\n",
       "    <tr style=\"text-align: right;\">\n",
       "      <th></th>\n",
       "      <th>Zombie</th>\n",
       "      <th>bite_perimeter</th>\n",
       "      <th>bite_radius</th>\n",
       "      <th>bite_area</th>\n",
       "      <th>bite points_worst</th>\n",
       "      <th>bite points_mean</th>\n",
       "      <th>perimeter_mean</th>\n",
       "      <th>area_mean</th>\n",
       "      <th>radius_mean</th>\n",
       "      <th>area_se</th>\n",
       "      <th>...</th>\n",
       "      <th>cut_worst</th>\n",
       "      <th>radius_se</th>\n",
       "      <th>perimeter_se</th>\n",
       "      <th>deep_worst</th>\n",
       "      <th>deep_mean</th>\n",
       "      <th>deep_se</th>\n",
       "      <th>wound_se</th>\n",
       "      <th>wound_mean</th>\n",
       "      <th>wound_worst</th>\n",
       "      <th>cut_symmetry_worst</th>\n",
       "    </tr>\n",
       "  </thead>\n",
       "  <tbody>\n",
       "    <tr>\n",
       "      <th>0</th>\n",
       "      <td>0</td>\n",
       "      <td>2.303601</td>\n",
       "      <td>1.886690</td>\n",
       "      <td>2.001237</td>\n",
       "      <td>2.315161</td>\n",
       "      <td>-0.038729</td>\n",
       "      <td>1.269934</td>\n",
       "      <td>0.984375</td>\n",
       "      <td>1.094857</td>\n",
       "      <td>2.487306</td>\n",
       "      <td>...</td>\n",
       "      <td>2.114806</td>\n",
       "      <td>2.489734</td>\n",
       "      <td>2.833031</td>\n",
       "      <td>2.616665</td>\n",
       "      <td>3.283281</td>\n",
       "      <td>0.717801</td>\n",
       "      <td>0.655834</td>\n",
       "      <td>-2.069093</td>\n",
       "      <td>-1.359293</td>\n",
       "      <td>2.750622</td>\n",
       "    </tr>\n",
       "    <tr>\n",
       "      <th>1</th>\n",
       "      <td>0</td>\n",
       "      <td>1.535126</td>\n",
       "      <td>1.805927</td>\n",
       "      <td>1.890489</td>\n",
       "      <td>1.092697</td>\n",
       "      <td>-0.068858</td>\n",
       "      <td>1.685955</td>\n",
       "      <td>1.908708</td>\n",
       "      <td>1.826337</td>\n",
       "      <td>0.742209</td>\n",
       "      <td>...</td>\n",
       "      <td>-0.152628</td>\n",
       "      <td>0.499255</td>\n",
       "      <td>0.263327</td>\n",
       "      <td>-0.430444</td>\n",
       "      <td>-0.489005</td>\n",
       "      <td>-0.456291</td>\n",
       "      <td>0.243843</td>\n",
       "      <td>-0.352221</td>\n",
       "      <td>-0.369203</td>\n",
       "      <td>-0.243890</td>\n",
       "    </tr>\n",
       "    <tr>\n",
       "      <th>2</th>\n",
       "      <td>0</td>\n",
       "      <td>1.347475</td>\n",
       "      <td>1.511870</td>\n",
       "      <td>1.456285</td>\n",
       "      <td>1.970285</td>\n",
       "      <td>-0.046249</td>\n",
       "      <td>1.566503</td>\n",
       "      <td>1.558884</td>\n",
       "      <td>1.576840</td>\n",
       "      <td>1.181123</td>\n",
       "      <td>...</td>\n",
       "      <td>0.854049</td>\n",
       "      <td>1.228676</td>\n",
       "      <td>0.850928</td>\n",
       "      <td>1.082932</td>\n",
       "      <td>1.051687</td>\n",
       "      <td>0.202778</td>\n",
       "      <td>1.441453</td>\n",
       "      <td>0.456266</td>\n",
       "      <td>-0.023974</td>\n",
       "      <td>1.152255</td>\n",
       "    </tr>\n",
       "    <tr>\n",
       "      <th>3</th>\n",
       "      <td>0</td>\n",
       "      <td>-0.249939</td>\n",
       "      <td>-0.281464</td>\n",
       "      <td>-0.550021</td>\n",
       "      <td>2.193531</td>\n",
       "      <td>-0.055139</td>\n",
       "      <td>-0.592687</td>\n",
       "      <td>-0.764464</td>\n",
       "      <td>-0.767864</td>\n",
       "      <td>-0.288525</td>\n",
       "      <td>...</td>\n",
       "      <td>1.994275</td>\n",
       "      <td>0.326373</td>\n",
       "      <td>0.286593</td>\n",
       "      <td>3.893397</td>\n",
       "      <td>3.402729</td>\n",
       "      <td>0.814055</td>\n",
       "      <td>1.122869</td>\n",
       "      <td>0.254144</td>\n",
       "      <td>0.133984</td>\n",
       "      <td>6.046041</td>\n",
       "    </tr>\n",
       "    <tr>\n",
       "      <th>4</th>\n",
       "      <td>0</td>\n",
       "      <td>1.338539</td>\n",
       "      <td>1.298575</td>\n",
       "      <td>1.220724</td>\n",
       "      <td>0.730884</td>\n",
       "      <td>-0.055491</td>\n",
       "      <td>1.776573</td>\n",
       "      <td>1.826229</td>\n",
       "      <td>1.746952</td>\n",
       "      <td>1.190143</td>\n",
       "      <td>...</td>\n",
       "      <td>0.611058</td>\n",
       "      <td>1.270543</td>\n",
       "      <td>1.273189</td>\n",
       "      <td>-0.313395</td>\n",
       "      <td>0.537870</td>\n",
       "      <td>0.823078</td>\n",
       "      <td>1.152892</td>\n",
       "      <td>-1.149091</td>\n",
       "      <td>-1.466770</td>\n",
       "      <td>-0.868353</td>\n",
       "    </tr>\n",
       "  </tbody>\n",
       "</table>\n",
       "<p>5 rows × 21 columns</p>\n",
       "</div>"
      ],
      "text/plain": [
       "   Zombie  bite_perimeter  bite_radius  bite_area  bite points_worst  \\\n",
       "0       0        2.303601     1.886690   2.001237           2.315161   \n",
       "1       0        1.535126     1.805927   1.890489           1.092697   \n",
       "2       0        1.347475     1.511870   1.456285           1.970285   \n",
       "3       0       -0.249939    -0.281464  -0.550021           2.193531   \n",
       "4       0        1.338539     1.298575   1.220724           0.730884   \n",
       "\n",
       "   bite points_mean  perimeter_mean  area_mean  radius_mean   area_se  ...  \\\n",
       "0         -0.038729        1.269934   0.984375     1.094857  2.487306  ...   \n",
       "1         -0.068858        1.685955   1.908708     1.826337  0.742209  ...   \n",
       "2         -0.046249        1.566503   1.558884     1.576840  1.181123  ...   \n",
       "3         -0.055139       -0.592687  -0.764464    -0.767864 -0.288525  ...   \n",
       "4         -0.055491        1.776573   1.826229     1.746952  1.190143  ...   \n",
       "\n",
       "   cut_worst  radius_se  perimeter_se  deep_worst  deep_mean   deep_se  \\\n",
       "0   2.114806   2.489734      2.833031    2.616665   3.283281  0.717801   \n",
       "1  -0.152628   0.499255      0.263327   -0.430444  -0.489005 -0.456291   \n",
       "2   0.854049   1.228676      0.850928    1.082932   1.051687  0.202778   \n",
       "3   1.994275   0.326373      0.286593    3.893397   3.402729  0.814055   \n",
       "4   0.611058   1.270543      1.273189   -0.313395   0.537870  0.823078   \n",
       "\n",
       "   wound_se  wound_mean  wound_worst  cut_symmetry_worst  \n",
       "0  0.655834   -2.069093    -1.359293            2.750622  \n",
       "1  0.243843   -0.352221    -0.369203           -0.243890  \n",
       "2  1.441453    0.456266    -0.023974            1.152255  \n",
       "3  1.122869    0.254144     0.133984            6.046041  \n",
       "4  1.152892   -1.149091    -1.466770           -0.868353  \n",
       "\n",
       "[5 rows x 21 columns]"
      ]
     },
     "execution_count": 56,
     "metadata": {},
     "output_type": "execute_result"
    }
   ],
   "source": [
    "import pandas as pd \n",
    "virus = pd.read_csv('https://raw.githubusercontent.com/insaid2018/Term-2/master/Data/zombie.csv')\n",
    "virus.head()"
   ]
  },
  {
   "cell_type": "code",
   "execution_count": 57,
   "metadata": {},
   "outputs": [
    {
     "data": {
      "text/plain": [
       "(569, 21)"
      ]
     },
     "execution_count": 57,
     "metadata": {},
     "output_type": "execute_result"
    }
   ],
   "source": [
    "virus.shape"
   ]
  },
  {
   "cell_type": "code",
   "execution_count": 58,
   "metadata": {},
   "outputs": [
    {
     "data": {
      "text/plain": [
       "Index(['Zombie', 'bite_perimeter', 'bite_radius', 'bite_area',\n",
       "       'bite points_worst', 'bite points_mean', 'perimeter_mean', 'area_mean',\n",
       "       'radius_mean', 'area_se', 'cut_mean', 'cut_worst', 'radius_se',\n",
       "       'perimeter_se', 'deep_worst', 'deep_mean', 'deep_se', 'wound_se',\n",
       "       'wound_mean', 'wound_worst', 'cut_symmetry_worst'],\n",
       "      dtype='object')"
      ]
     },
     "execution_count": 58,
     "metadata": {},
     "output_type": "execute_result"
    }
   ],
   "source": [
    "virus.columns"
   ]
  },
  {
   "cell_type": "code",
   "execution_count": 59,
   "metadata": {},
   "outputs": [
    {
     "data": {
      "text/plain": [
       "1    467\n",
       "0    102\n",
       "Name: Zombie, dtype: int64"
      ]
     },
     "execution_count": 59,
     "metadata": {},
     "output_type": "execute_result"
    }
   ],
   "source": [
    "virus.Zombie.value_counts()"
   ]
  },
  {
   "cell_type": "code",
   "execution_count": 60,
   "metadata": {},
   "outputs": [
    {
     "data": {
      "text/html": [
       "<div>\n",
       "<style scoped>\n",
       "    .dataframe tbody tr th:only-of-type {\n",
       "        vertical-align: middle;\n",
       "    }\n",
       "\n",
       "    .dataframe tbody tr th {\n",
       "        vertical-align: top;\n",
       "    }\n",
       "\n",
       "    .dataframe thead th {\n",
       "        text-align: right;\n",
       "    }\n",
       "</style>\n",
       "<table border=\"1\" class=\"dataframe\">\n",
       "  <thead>\n",
       "    <tr style=\"text-align: right;\">\n",
       "      <th></th>\n",
       "      <th>Zombie</th>\n",
       "      <th>bite_perimeter</th>\n",
       "      <th>bite_radius</th>\n",
       "      <th>bite_area</th>\n",
       "      <th>bite points_worst</th>\n",
       "      <th>bite points_mean</th>\n",
       "      <th>perimeter_mean</th>\n",
       "      <th>area_mean</th>\n",
       "      <th>radius_mean</th>\n",
       "      <th>area_se</th>\n",
       "      <th>...</th>\n",
       "      <th>cut_worst</th>\n",
       "      <th>radius_se</th>\n",
       "      <th>perimeter_se</th>\n",
       "      <th>deep_worst</th>\n",
       "      <th>deep_mean</th>\n",
       "      <th>deep_se</th>\n",
       "      <th>wound_se</th>\n",
       "      <th>wound_mean</th>\n",
       "      <th>wound_worst</th>\n",
       "      <th>cut_symmetry_worst</th>\n",
       "    </tr>\n",
       "  </thead>\n",
       "  <tbody>\n",
       "    <tr>\n",
       "      <th>count</th>\n",
       "      <td>569.000000</td>\n",
       "      <td>5.690000e+02</td>\n",
       "      <td>5.690000e+02</td>\n",
       "      <td>5.690000e+02</td>\n",
       "      <td>5.690000e+02</td>\n",
       "      <td>5.690000e+02</td>\n",
       "      <td>5.690000e+02</td>\n",
       "      <td>5.690000e+02</td>\n",
       "      <td>5.690000e+02</td>\n",
       "      <td>5.690000e+02</td>\n",
       "      <td>...</td>\n",
       "      <td>5.690000e+02</td>\n",
       "      <td>5.690000e+02</td>\n",
       "      <td>5.690000e+02</td>\n",
       "      <td>5.690000e+02</td>\n",
       "      <td>5.690000e+02</td>\n",
       "      <td>5.690000e+02</td>\n",
       "      <td>5.690000e+02</td>\n",
       "      <td>5.690000e+02</td>\n",
       "      <td>5.690000e+02</td>\n",
       "      <td>5.690000e+02</td>\n",
       "    </tr>\n",
       "    <tr>\n",
       "      <th>mean</th>\n",
       "      <td>0.820738</td>\n",
       "      <td>7.029832e-12</td>\n",
       "      <td>-2.811947e-11</td>\n",
       "      <td>3.514943e-12</td>\n",
       "      <td>-3.514878e-12</td>\n",
       "      <td>-3.514956e-12</td>\n",
       "      <td>-3.514854e-12</td>\n",
       "      <td>-1.757469e-12</td>\n",
       "      <td>-8.787342e-12</td>\n",
       "      <td>-1.405975e-11</td>\n",
       "      <td>...</td>\n",
       "      <td>-1.054485e-11</td>\n",
       "      <td>-1.757479e-12</td>\n",
       "      <td>1.230224e-11</td>\n",
       "      <td>3.514802e-12</td>\n",
       "      <td>-2.108963e-11</td>\n",
       "      <td>-1.757512e-12</td>\n",
       "      <td>-3.514902e-12</td>\n",
       "      <td>5.272379e-12</td>\n",
       "      <td>2.811951e-11</td>\n",
       "      <td>5.272491e-12</td>\n",
       "    </tr>\n",
       "    <tr>\n",
       "      <th>std</th>\n",
       "      <td>0.383909</td>\n",
       "      <td>1.000880e+00</td>\n",
       "      <td>1.000880e+00</td>\n",
       "      <td>1.000880e+00</td>\n",
       "      <td>1.000880e+00</td>\n",
       "      <td>1.000880e+00</td>\n",
       "      <td>1.000880e+00</td>\n",
       "      <td>1.000880e+00</td>\n",
       "      <td>1.000880e+00</td>\n",
       "      <td>1.000880e+00</td>\n",
       "      <td>...</td>\n",
       "      <td>1.000880e+00</td>\n",
       "      <td>1.000880e+00</td>\n",
       "      <td>1.000880e+00</td>\n",
       "      <td>1.000880e+00</td>\n",
       "      <td>1.000880e+00</td>\n",
       "      <td>1.000880e+00</td>\n",
       "      <td>1.000880e+00</td>\n",
       "      <td>1.000880e+00</td>\n",
       "      <td>1.000880e+00</td>\n",
       "      <td>1.000880e+00</td>\n",
       "    </tr>\n",
       "    <tr>\n",
       "      <th>min</th>\n",
       "      <td>0.000000</td>\n",
       "      <td>-1.693361e+00</td>\n",
       "      <td>-1.726901e+00</td>\n",
       "      <td>-1.222423e+00</td>\n",
       "      <td>-1.771012e+00</td>\n",
       "      <td>-9.633860e-02</td>\n",
       "      <td>-1.984504e+00</td>\n",
       "      <td>-1.454443e+00</td>\n",
       "      <td>-2.026406e+00</td>\n",
       "      <td>-7.379562e-01</td>\n",
       "      <td>...</td>\n",
       "      <td>-1.317441e+00</td>\n",
       "      <td>-1.059924e+00</td>\n",
       "      <td>-1.044049e+00</td>\n",
       "      <td>-1.443878e+00</td>\n",
       "      <td>-1.612576e+00</td>\n",
       "      <td>-1.077928e+00</td>\n",
       "      <td>-1.991249e+00</td>\n",
       "      <td>-2.224750e+00</td>\n",
       "      <td>-2.223994e+00</td>\n",
       "      <td>-2.160960e+00</td>\n",
       "    </tr>\n",
       "    <tr>\n",
       "      <th>25%</th>\n",
       "      <td>1.000000</td>\n",
       "      <td>-6.895783e-01</td>\n",
       "      <td>-6.749213e-01</td>\n",
       "      <td>-6.421359e-01</td>\n",
       "      <td>-7.705615e-01</td>\n",
       "      <td>-8.829446e-02</td>\n",
       "      <td>-6.919555e-01</td>\n",
       "      <td>-6.671955e-01</td>\n",
       "      <td>-6.913138e-01</td>\n",
       "      <td>-4.948921e-01</td>\n",
       "      <td>...</td>\n",
       "      <td>-7.543195e-01</td>\n",
       "      <td>-6.235706e-01</td>\n",
       "      <td>-6.237679e-01</td>\n",
       "      <td>-6.810833e-01</td>\n",
       "      <td>-7.491364e-01</td>\n",
       "      <td>-5.578920e-01</td>\n",
       "      <td>-6.627035e-01</td>\n",
       "      <td>-7.239388e-01</td>\n",
       "      <td>-7.486293e-01</td>\n",
       "      <td>-6.418637e-01</td>\n",
       "    </tr>\n",
       "    <tr>\n",
       "      <th>50%</th>\n",
       "      <td>1.000000</td>\n",
       "      <td>-2.859802e-01</td>\n",
       "      <td>-2.690395e-01</td>\n",
       "      <td>-3.411812e-01</td>\n",
       "      <td>-2.324614e-01</td>\n",
       "      <td>-8.302309e-02</td>\n",
       "      <td>-2.359800e-01</td>\n",
       "      <td>-2.951869e-01</td>\n",
       "      <td>-2.150014e-01</td>\n",
       "      <td>-3.479273e-01</td>\n",
       "      <td>...</td>\n",
       "      <td>-2.244642e-01</td>\n",
       "      <td>-2.922452e-01</td>\n",
       "      <td>-2.866520e-01</td>\n",
       "      <td>-2.695009e-01</td>\n",
       "      <td>-2.049837e-01</td>\n",
       "      <td>-2.106442e-01</td>\n",
       "      <td>-1.614756e-01</td>\n",
       "      <td>-1.036344e-01</td>\n",
       "      <td>-4.351564e-02</td>\n",
       "      <td>-1.274095e-01</td>\n",
       "    </tr>\n",
       "    <tr>\n",
       "      <th>75%</th>\n",
       "      <td>1.000000</td>\n",
       "      <td>5.402790e-01</td>\n",
       "      <td>5.220158e-01</td>\n",
       "      <td>3.575891e-01</td>\n",
       "      <td>7.139481e-01</td>\n",
       "      <td>-6.701315e-02</td>\n",
       "      <td>4.996769e-01</td>\n",
       "      <td>3.635073e-01</td>\n",
       "      <td>4.682799e-01</td>\n",
       "      <td>1.066077e-01</td>\n",
       "      <td>...</td>\n",
       "      <td>5.286149e-01</td>\n",
       "      <td>2.660996e-01</td>\n",
       "      <td>2.430307e-01</td>\n",
       "      <td>5.396688e-01</td>\n",
       "      <td>4.942619e-01</td>\n",
       "      <td>3.274396e-01</td>\n",
       "      <td>4.623488e-01</td>\n",
       "      <td>5.840438e-01</td>\n",
       "      <td>6.583411e-01</td>\n",
       "      <td>4.501382e-01</td>\n",
       "    </tr>\n",
       "    <tr>\n",
       "      <th>max</th>\n",
       "      <td>1.000000</td>\n",
       "      <td>4.287337e+00</td>\n",
       "      <td>4.094189e+00</td>\n",
       "      <td>5.930172e+00</td>\n",
       "      <td>2.709306e+00</td>\n",
       "      <td>1.752713e+01</td>\n",
       "      <td>3.976130e+00</td>\n",
       "      <td>5.250529e+00</td>\n",
       "      <td>3.964072e+00</td>\n",
       "      <td>1.104119e+01</td>\n",
       "      <td>...</td>\n",
       "      <td>4.718763e+00</td>\n",
       "      <td>8.906909e+00</td>\n",
       "      <td>9.461986e+00</td>\n",
       "      <td>5.112877e+00</td>\n",
       "      <td>4.568771e+00</td>\n",
       "      <td>1.215693e+01</td>\n",
       "      <td>6.814015e+00</td>\n",
       "      <td>4.645063e+00</td>\n",
       "      <td>3.885905e+00</td>\n",
       "      <td>6.046041e+00</td>\n",
       "    </tr>\n",
       "  </tbody>\n",
       "</table>\n",
       "<p>8 rows × 21 columns</p>\n",
       "</div>"
      ],
      "text/plain": [
       "           Zombie  bite_perimeter   bite_radius     bite_area  \\\n",
       "count  569.000000    5.690000e+02  5.690000e+02  5.690000e+02   \n",
       "mean     0.820738    7.029832e-12 -2.811947e-11  3.514943e-12   \n",
       "std      0.383909    1.000880e+00  1.000880e+00  1.000880e+00   \n",
       "min      0.000000   -1.693361e+00 -1.726901e+00 -1.222423e+00   \n",
       "25%      1.000000   -6.895783e-01 -6.749213e-01 -6.421359e-01   \n",
       "50%      1.000000   -2.859802e-01 -2.690395e-01 -3.411812e-01   \n",
       "75%      1.000000    5.402790e-01  5.220158e-01  3.575891e-01   \n",
       "max      1.000000    4.287337e+00  4.094189e+00  5.930172e+00   \n",
       "\n",
       "       bite points_worst  bite points_mean  perimeter_mean     area_mean  \\\n",
       "count       5.690000e+02      5.690000e+02    5.690000e+02  5.690000e+02   \n",
       "mean       -3.514878e-12     -3.514956e-12   -3.514854e-12 -1.757469e-12   \n",
       "std         1.000880e+00      1.000880e+00    1.000880e+00  1.000880e+00   \n",
       "min        -1.771012e+00     -9.633860e-02   -1.984504e+00 -1.454443e+00   \n",
       "25%        -7.705615e-01     -8.829446e-02   -6.919555e-01 -6.671955e-01   \n",
       "50%        -2.324614e-01     -8.302309e-02   -2.359800e-01 -2.951869e-01   \n",
       "75%         7.139481e-01     -6.701315e-02    4.996769e-01  3.635073e-01   \n",
       "max         2.709306e+00      1.752713e+01    3.976130e+00  5.250529e+00   \n",
       "\n",
       "        radius_mean       area_se  ...     cut_worst     radius_se  \\\n",
       "count  5.690000e+02  5.690000e+02  ...  5.690000e+02  5.690000e+02   \n",
       "mean  -8.787342e-12 -1.405975e-11  ... -1.054485e-11 -1.757479e-12   \n",
       "std    1.000880e+00  1.000880e+00  ...  1.000880e+00  1.000880e+00   \n",
       "min   -2.026406e+00 -7.379562e-01  ... -1.317441e+00 -1.059924e+00   \n",
       "25%   -6.913138e-01 -4.948921e-01  ... -7.543195e-01 -6.235706e-01   \n",
       "50%   -2.150014e-01 -3.479273e-01  ... -2.244642e-01 -2.922452e-01   \n",
       "75%    4.682799e-01  1.066077e-01  ...  5.286149e-01  2.660996e-01   \n",
       "max    3.964072e+00  1.104119e+01  ...  4.718763e+00  8.906909e+00   \n",
       "\n",
       "       perimeter_se    deep_worst     deep_mean       deep_se      wound_se  \\\n",
       "count  5.690000e+02  5.690000e+02  5.690000e+02  5.690000e+02  5.690000e+02   \n",
       "mean   1.230224e-11  3.514802e-12 -2.108963e-11 -1.757512e-12 -3.514902e-12   \n",
       "std    1.000880e+00  1.000880e+00  1.000880e+00  1.000880e+00  1.000880e+00   \n",
       "min   -1.044049e+00 -1.443878e+00 -1.612576e+00 -1.077928e+00 -1.991249e+00   \n",
       "25%   -6.237679e-01 -6.810833e-01 -7.491364e-01 -5.578920e-01 -6.627035e-01   \n",
       "50%   -2.866520e-01 -2.695009e-01 -2.049837e-01 -2.106442e-01 -1.614756e-01   \n",
       "75%    2.430307e-01  5.396688e-01  4.942619e-01  3.274396e-01  4.623488e-01   \n",
       "max    9.461986e+00  5.112877e+00  4.568771e+00  1.215693e+01  6.814015e+00   \n",
       "\n",
       "         wound_mean   wound_worst  cut_symmetry_worst  \n",
       "count  5.690000e+02  5.690000e+02        5.690000e+02  \n",
       "mean   5.272379e-12  2.811951e-11        5.272491e-12  \n",
       "std    1.000880e+00  1.000880e+00        1.000880e+00  \n",
       "min   -2.224750e+00 -2.223994e+00       -2.160960e+00  \n",
       "25%   -7.239388e-01 -7.486293e-01       -6.418637e-01  \n",
       "50%   -1.036344e-01 -4.351564e-02       -1.274095e-01  \n",
       "75%    5.840438e-01  6.583411e-01        4.501382e-01  \n",
       "max    4.645063e+00  3.885905e+00        6.046041e+00  \n",
       "\n",
       "[8 rows x 21 columns]"
      ]
     },
     "execution_count": 60,
     "metadata": {},
     "output_type": "execute_result"
    }
   ],
   "source": [
    "virus.describe()"
   ]
  },
  {
   "cell_type": "code",
   "execution_count": 61,
   "metadata": {},
   "outputs": [
    {
     "data": {
      "text/plain": [
       "1    467\n",
       "0    102\n",
       "Name: Zombie, dtype: int64"
      ]
     },
     "execution_count": 61,
     "metadata": {},
     "output_type": "execute_result"
    }
   ],
   "source": [
    "virus.Zombie.value_counts()"
   ]
  },
  {
   "cell_type": "code",
   "execution_count": 62,
   "metadata": {},
   "outputs": [
    {
     "data": {
      "text/html": [
       "<div>\n",
       "<style scoped>\n",
       "    .dataframe tbody tr th:only-of-type {\n",
       "        vertical-align: middle;\n",
       "    }\n",
       "\n",
       "    .dataframe tbody tr th {\n",
       "        vertical-align: top;\n",
       "    }\n",
       "\n",
       "    .dataframe thead th {\n",
       "        text-align: right;\n",
       "    }\n",
       "</style>\n",
       "<table border=\"1\" class=\"dataframe\">\n",
       "  <thead>\n",
       "    <tr style=\"text-align: right;\">\n",
       "      <th></th>\n",
       "      <th>Zombie</th>\n",
       "      <th>bite_perimeter</th>\n",
       "      <th>bite_radius</th>\n",
       "      <th>bite_area</th>\n",
       "      <th>bite points_worst</th>\n",
       "      <th>bite points_mean</th>\n",
       "      <th>perimeter_mean</th>\n",
       "      <th>area_mean</th>\n",
       "      <th>radius_mean</th>\n",
       "      <th>area_se</th>\n",
       "      <th>...</th>\n",
       "      <th>cut_worst</th>\n",
       "      <th>radius_se</th>\n",
       "      <th>perimeter_se</th>\n",
       "      <th>deep_worst</th>\n",
       "      <th>deep_mean</th>\n",
       "      <th>deep_se</th>\n",
       "      <th>wound_se</th>\n",
       "      <th>wound_mean</th>\n",
       "      <th>wound_worst</th>\n",
       "      <th>cut_symmetry_worst</th>\n",
       "    </tr>\n",
       "  </thead>\n",
       "  <tbody>\n",
       "    <tr>\n",
       "      <th>count</th>\n",
       "      <td>569.000000</td>\n",
       "      <td>5.690000e+02</td>\n",
       "      <td>5.690000e+02</td>\n",
       "      <td>5.690000e+02</td>\n",
       "      <td>5.690000e+02</td>\n",
       "      <td>5.690000e+02</td>\n",
       "      <td>5.690000e+02</td>\n",
       "      <td>5.690000e+02</td>\n",
       "      <td>5.690000e+02</td>\n",
       "      <td>5.690000e+02</td>\n",
       "      <td>...</td>\n",
       "      <td>5.690000e+02</td>\n",
       "      <td>5.690000e+02</td>\n",
       "      <td>5.690000e+02</td>\n",
       "      <td>5.690000e+02</td>\n",
       "      <td>5.690000e+02</td>\n",
       "      <td>5.690000e+02</td>\n",
       "      <td>5.690000e+02</td>\n",
       "      <td>5.690000e+02</td>\n",
       "      <td>5.690000e+02</td>\n",
       "      <td>5.690000e+02</td>\n",
       "    </tr>\n",
       "    <tr>\n",
       "      <th>mean</th>\n",
       "      <td>0.820738</td>\n",
       "      <td>7.029832e-12</td>\n",
       "      <td>-2.811947e-11</td>\n",
       "      <td>3.514943e-12</td>\n",
       "      <td>-3.514878e-12</td>\n",
       "      <td>-3.514956e-12</td>\n",
       "      <td>-3.514854e-12</td>\n",
       "      <td>-1.757469e-12</td>\n",
       "      <td>-8.787342e-12</td>\n",
       "      <td>-1.405975e-11</td>\n",
       "      <td>...</td>\n",
       "      <td>-1.054485e-11</td>\n",
       "      <td>-1.757479e-12</td>\n",
       "      <td>1.230224e-11</td>\n",
       "      <td>3.514802e-12</td>\n",
       "      <td>-2.108963e-11</td>\n",
       "      <td>-1.757512e-12</td>\n",
       "      <td>-3.514902e-12</td>\n",
       "      <td>5.272379e-12</td>\n",
       "      <td>2.811951e-11</td>\n",
       "      <td>5.272491e-12</td>\n",
       "    </tr>\n",
       "    <tr>\n",
       "      <th>std</th>\n",
       "      <td>0.383909</td>\n",
       "      <td>1.000880e+00</td>\n",
       "      <td>1.000880e+00</td>\n",
       "      <td>1.000880e+00</td>\n",
       "      <td>1.000880e+00</td>\n",
       "      <td>1.000880e+00</td>\n",
       "      <td>1.000880e+00</td>\n",
       "      <td>1.000880e+00</td>\n",
       "      <td>1.000880e+00</td>\n",
       "      <td>1.000880e+00</td>\n",
       "      <td>...</td>\n",
       "      <td>1.000880e+00</td>\n",
       "      <td>1.000880e+00</td>\n",
       "      <td>1.000880e+00</td>\n",
       "      <td>1.000880e+00</td>\n",
       "      <td>1.000880e+00</td>\n",
       "      <td>1.000880e+00</td>\n",
       "      <td>1.000880e+00</td>\n",
       "      <td>1.000880e+00</td>\n",
       "      <td>1.000880e+00</td>\n",
       "      <td>1.000880e+00</td>\n",
       "    </tr>\n",
       "    <tr>\n",
       "      <th>min</th>\n",
       "      <td>0.000000</td>\n",
       "      <td>-1.693361e+00</td>\n",
       "      <td>-1.726901e+00</td>\n",
       "      <td>-1.222423e+00</td>\n",
       "      <td>-1.771012e+00</td>\n",
       "      <td>-9.633860e-02</td>\n",
       "      <td>-1.984504e+00</td>\n",
       "      <td>-1.454443e+00</td>\n",
       "      <td>-2.026406e+00</td>\n",
       "      <td>-7.379562e-01</td>\n",
       "      <td>...</td>\n",
       "      <td>-1.317441e+00</td>\n",
       "      <td>-1.059924e+00</td>\n",
       "      <td>-1.044049e+00</td>\n",
       "      <td>-1.443878e+00</td>\n",
       "      <td>-1.612576e+00</td>\n",
       "      <td>-1.077928e+00</td>\n",
       "      <td>-1.991249e+00</td>\n",
       "      <td>-2.224750e+00</td>\n",
       "      <td>-2.223994e+00</td>\n",
       "      <td>-2.160960e+00</td>\n",
       "    </tr>\n",
       "    <tr>\n",
       "      <th>25%</th>\n",
       "      <td>1.000000</td>\n",
       "      <td>-6.895783e-01</td>\n",
       "      <td>-6.749213e-01</td>\n",
       "      <td>-6.421359e-01</td>\n",
       "      <td>-7.705615e-01</td>\n",
       "      <td>-8.829446e-02</td>\n",
       "      <td>-6.919555e-01</td>\n",
       "      <td>-6.671955e-01</td>\n",
       "      <td>-6.913138e-01</td>\n",
       "      <td>-4.948921e-01</td>\n",
       "      <td>...</td>\n",
       "      <td>-7.543195e-01</td>\n",
       "      <td>-6.235706e-01</td>\n",
       "      <td>-6.237679e-01</td>\n",
       "      <td>-6.810833e-01</td>\n",
       "      <td>-7.491364e-01</td>\n",
       "      <td>-5.578920e-01</td>\n",
       "      <td>-6.627035e-01</td>\n",
       "      <td>-7.239388e-01</td>\n",
       "      <td>-7.486293e-01</td>\n",
       "      <td>-6.418637e-01</td>\n",
       "    </tr>\n",
       "    <tr>\n",
       "      <th>50%</th>\n",
       "      <td>1.000000</td>\n",
       "      <td>-2.859802e-01</td>\n",
       "      <td>-2.690395e-01</td>\n",
       "      <td>-3.411812e-01</td>\n",
       "      <td>-2.324614e-01</td>\n",
       "      <td>-8.302309e-02</td>\n",
       "      <td>-2.359800e-01</td>\n",
       "      <td>-2.951869e-01</td>\n",
       "      <td>-2.150014e-01</td>\n",
       "      <td>-3.479273e-01</td>\n",
       "      <td>...</td>\n",
       "      <td>-2.244642e-01</td>\n",
       "      <td>-2.922452e-01</td>\n",
       "      <td>-2.866520e-01</td>\n",
       "      <td>-2.695009e-01</td>\n",
       "      <td>-2.049837e-01</td>\n",
       "      <td>-2.106442e-01</td>\n",
       "      <td>-1.614756e-01</td>\n",
       "      <td>-1.036344e-01</td>\n",
       "      <td>-4.351564e-02</td>\n",
       "      <td>-1.274095e-01</td>\n",
       "    </tr>\n",
       "    <tr>\n",
       "      <th>75%</th>\n",
       "      <td>1.000000</td>\n",
       "      <td>5.402790e-01</td>\n",
       "      <td>5.220158e-01</td>\n",
       "      <td>3.575891e-01</td>\n",
       "      <td>7.139481e-01</td>\n",
       "      <td>-6.701315e-02</td>\n",
       "      <td>4.996769e-01</td>\n",
       "      <td>3.635073e-01</td>\n",
       "      <td>4.682799e-01</td>\n",
       "      <td>1.066077e-01</td>\n",
       "      <td>...</td>\n",
       "      <td>5.286149e-01</td>\n",
       "      <td>2.660996e-01</td>\n",
       "      <td>2.430307e-01</td>\n",
       "      <td>5.396688e-01</td>\n",
       "      <td>4.942619e-01</td>\n",
       "      <td>3.274396e-01</td>\n",
       "      <td>4.623488e-01</td>\n",
       "      <td>5.840438e-01</td>\n",
       "      <td>6.583411e-01</td>\n",
       "      <td>4.501382e-01</td>\n",
       "    </tr>\n",
       "    <tr>\n",
       "      <th>max</th>\n",
       "      <td>1.000000</td>\n",
       "      <td>4.287337e+00</td>\n",
       "      <td>4.094189e+00</td>\n",
       "      <td>5.930172e+00</td>\n",
       "      <td>2.709306e+00</td>\n",
       "      <td>1.752713e+01</td>\n",
       "      <td>3.976130e+00</td>\n",
       "      <td>5.250529e+00</td>\n",
       "      <td>3.964072e+00</td>\n",
       "      <td>1.104119e+01</td>\n",
       "      <td>...</td>\n",
       "      <td>4.718763e+00</td>\n",
       "      <td>8.906909e+00</td>\n",
       "      <td>9.461986e+00</td>\n",
       "      <td>5.112877e+00</td>\n",
       "      <td>4.568771e+00</td>\n",
       "      <td>1.215693e+01</td>\n",
       "      <td>6.814015e+00</td>\n",
       "      <td>4.645063e+00</td>\n",
       "      <td>3.885905e+00</td>\n",
       "      <td>6.046041e+00</td>\n",
       "    </tr>\n",
       "  </tbody>\n",
       "</table>\n",
       "<p>8 rows × 21 columns</p>\n",
       "</div>"
      ],
      "text/plain": [
       "           Zombie  bite_perimeter   bite_radius     bite_area  \\\n",
       "count  569.000000    5.690000e+02  5.690000e+02  5.690000e+02   \n",
       "mean     0.820738    7.029832e-12 -2.811947e-11  3.514943e-12   \n",
       "std      0.383909    1.000880e+00  1.000880e+00  1.000880e+00   \n",
       "min      0.000000   -1.693361e+00 -1.726901e+00 -1.222423e+00   \n",
       "25%      1.000000   -6.895783e-01 -6.749213e-01 -6.421359e-01   \n",
       "50%      1.000000   -2.859802e-01 -2.690395e-01 -3.411812e-01   \n",
       "75%      1.000000    5.402790e-01  5.220158e-01  3.575891e-01   \n",
       "max      1.000000    4.287337e+00  4.094189e+00  5.930172e+00   \n",
       "\n",
       "       bite points_worst  bite points_mean  perimeter_mean     area_mean  \\\n",
       "count       5.690000e+02      5.690000e+02    5.690000e+02  5.690000e+02   \n",
       "mean       -3.514878e-12     -3.514956e-12   -3.514854e-12 -1.757469e-12   \n",
       "std         1.000880e+00      1.000880e+00    1.000880e+00  1.000880e+00   \n",
       "min        -1.771012e+00     -9.633860e-02   -1.984504e+00 -1.454443e+00   \n",
       "25%        -7.705615e-01     -8.829446e-02   -6.919555e-01 -6.671955e-01   \n",
       "50%        -2.324614e-01     -8.302309e-02   -2.359800e-01 -2.951869e-01   \n",
       "75%         7.139481e-01     -6.701315e-02    4.996769e-01  3.635073e-01   \n",
       "max         2.709306e+00      1.752713e+01    3.976130e+00  5.250529e+00   \n",
       "\n",
       "        radius_mean       area_se  ...     cut_worst     radius_se  \\\n",
       "count  5.690000e+02  5.690000e+02  ...  5.690000e+02  5.690000e+02   \n",
       "mean  -8.787342e-12 -1.405975e-11  ... -1.054485e-11 -1.757479e-12   \n",
       "std    1.000880e+00  1.000880e+00  ...  1.000880e+00  1.000880e+00   \n",
       "min   -2.026406e+00 -7.379562e-01  ... -1.317441e+00 -1.059924e+00   \n",
       "25%   -6.913138e-01 -4.948921e-01  ... -7.543195e-01 -6.235706e-01   \n",
       "50%   -2.150014e-01 -3.479273e-01  ... -2.244642e-01 -2.922452e-01   \n",
       "75%    4.682799e-01  1.066077e-01  ...  5.286149e-01  2.660996e-01   \n",
       "max    3.964072e+00  1.104119e+01  ...  4.718763e+00  8.906909e+00   \n",
       "\n",
       "       perimeter_se    deep_worst     deep_mean       deep_se      wound_se  \\\n",
       "count  5.690000e+02  5.690000e+02  5.690000e+02  5.690000e+02  5.690000e+02   \n",
       "mean   1.230224e-11  3.514802e-12 -2.108963e-11 -1.757512e-12 -3.514902e-12   \n",
       "std    1.000880e+00  1.000880e+00  1.000880e+00  1.000880e+00  1.000880e+00   \n",
       "min   -1.044049e+00 -1.443878e+00 -1.612576e+00 -1.077928e+00 -1.991249e+00   \n",
       "25%   -6.237679e-01 -6.810833e-01 -7.491364e-01 -5.578920e-01 -6.627035e-01   \n",
       "50%   -2.866520e-01 -2.695009e-01 -2.049837e-01 -2.106442e-01 -1.614756e-01   \n",
       "75%    2.430307e-01  5.396688e-01  4.942619e-01  3.274396e-01  4.623488e-01   \n",
       "max    9.461986e+00  5.112877e+00  4.568771e+00  1.215693e+01  6.814015e+00   \n",
       "\n",
       "         wound_mean   wound_worst  cut_symmetry_worst  \n",
       "count  5.690000e+02  5.690000e+02        5.690000e+02  \n",
       "mean   5.272379e-12  2.811951e-11        5.272491e-12  \n",
       "std    1.000880e+00  1.000880e+00        1.000880e+00  \n",
       "min   -2.224750e+00 -2.223994e+00       -2.160960e+00  \n",
       "25%   -7.239388e-01 -7.486293e-01       -6.418637e-01  \n",
       "50%   -1.036344e-01 -4.351564e-02       -1.274095e-01  \n",
       "75%    5.840438e-01  6.583411e-01        4.501382e-01  \n",
       "max    4.645063e+00  3.885905e+00        6.046041e+00  \n",
       "\n",
       "[8 rows x 21 columns]"
      ]
     },
     "execution_count": 62,
     "metadata": {},
     "output_type": "execute_result"
    }
   ],
   "source": [
    "virus.describe()\n"
   ]
  },
  {
   "cell_type": "code",
   "execution_count": 63,
   "metadata": {},
   "outputs": [
    {
     "name": "stdout",
     "output_type": "stream",
     "text": [
      "<class 'pandas.core.frame.DataFrame'>\n",
      "RangeIndex: 569 entries, 0 to 568\n",
      "Data columns (total 21 columns):\n",
      " #   Column              Non-Null Count  Dtype  \n",
      "---  ------              --------------  -----  \n",
      " 0   Zombie              569 non-null    int64  \n",
      " 1   bite_perimeter      569 non-null    float64\n",
      " 2   bite_radius         569 non-null    float64\n",
      " 3   bite_area           569 non-null    float64\n",
      " 4   bite points_worst   569 non-null    float64\n",
      " 5   bite points_mean    569 non-null    float64\n",
      " 6   perimeter_mean      569 non-null    float64\n",
      " 7   area_mean           569 non-null    float64\n",
      " 8   radius_mean         569 non-null    float64\n",
      " 9   area_se             569 non-null    float64\n",
      " 10  cut_mean            569 non-null    float64\n",
      " 11  cut_worst           569 non-null    float64\n",
      " 12  radius_se           569 non-null    float64\n",
      " 13  perimeter_se        569 non-null    float64\n",
      " 14  deep_worst          569 non-null    float64\n",
      " 15  deep_mean           569 non-null    float64\n",
      " 16  deep_se             569 non-null    float64\n",
      " 17  wound_se            569 non-null    float64\n",
      " 18  wound_mean          569 non-null    float64\n",
      " 19  wound_worst         569 non-null    float64\n",
      " 20  cut_symmetry_worst  569 non-null    float64\n",
      "dtypes: float64(20), int64(1)\n",
      "memory usage: 93.5 KB\n"
     ]
    }
   ],
   "source": [
    "virus.info()"
   ]
  },
  {
   "cell_type": "code",
   "execution_count": 64,
   "metadata": {},
   "outputs": [
    {
     "data": {
      "text/plain": [
       "Zombie                0\n",
       "bite_perimeter        0\n",
       "bite_radius           0\n",
       "bite_area             0\n",
       "bite points_worst     0\n",
       "bite points_mean      0\n",
       "perimeter_mean        0\n",
       "area_mean             0\n",
       "radius_mean           0\n",
       "area_se               0\n",
       "cut_mean              0\n",
       "cut_worst             0\n",
       "radius_se             0\n",
       "perimeter_se          0\n",
       "deep_worst            0\n",
       "deep_mean             0\n",
       "deep_se               0\n",
       "wound_se              0\n",
       "wound_mean            0\n",
       "wound_worst           0\n",
       "cut_symmetry_worst    0\n",
       "dtype: int64"
      ]
     },
     "execution_count": 64,
     "metadata": {},
     "output_type": "execute_result"
    }
   ],
   "source": [
    "def me():\n",
    "    return virus.isnull().sum()\n",
    "me()"
   ]
  },
  {
   "cell_type": "code",
   "execution_count": 65,
   "metadata": {},
   "outputs": [],
   "source": [
    "X = pd.DataFrame()\n",
    "def pre():\n",
    "    X = virus.loc[:,virus.columns != 'Zombie']\n",
    "    return X \n",
    "X=pre()"
   ]
  },
  {
   "cell_type": "code",
   "execution_count": 66,
   "metadata": {},
   "outputs": [],
   "source": [
    "y = pd.DataFrame()\n",
    "def pre():\n",
    "    y = virus.loc[:,virus.columns == 'Zombie']\n",
    "    return y\n",
    "y = pre()"
   ]
  },
  {
   "cell_type": "code",
   "execution_count": 67,
   "metadata": {},
   "outputs": [],
   "source": [
    "from sklearn.model_selection import train_test_split\n",
    "def pre():\n",
    "    return train_test_split(X,y,test_size=0.25,random_state = 1)\n",
    "X_train,X_test,y_train,y_test = pre()"
   ]
  },
  {
   "cell_type": "code",
   "execution_count": 68,
   "metadata": {},
   "outputs": [
    {
     "name": "stdout",
     "output_type": "stream",
     "text": [
      "(426, 20)\n",
      "(426, 1)\n"
     ]
    }
   ],
   "source": [
    "def pre():\n",
    "    print(X_train.shape)\n",
    "    print(y_train.shape)\n",
    "pre()"
   ]
  },
  {
   "cell_type": "code",
   "execution_count": 69,
   "metadata": {},
   "outputs": [],
   "source": [
    "#Instantiate RandomClassifier using Scikit Learn\n",
    "from sklearn.ensemble import RandomForestClassifier\n",
    "def pre():\n",
    "    rfc = RandomForestClassifier()\n",
    "    return rfc\n",
    "rfc = pre()"
   ]
  },
  {
   "cell_type": "code",
   "execution_count": 70,
   "metadata": {},
   "outputs": [
    {
     "name": "stderr",
     "output_type": "stream",
     "text": [
      "<ipython-input-70-29b6b5ed6906>:2: DataConversionWarning: A column-vector y was passed when a 1d array was expected. Please change the shape of y to (n_samples,), for example using ravel().\n",
      "  return rfc.fit(X_train,y_train)\n"
     ]
    },
    {
     "data": {
      "text/plain": [
       "RandomForestClassifier()"
      ]
     },
     "execution_count": 70,
     "metadata": {},
     "output_type": "execute_result"
    }
   ],
   "source": [
    "def pre():\n",
    "    return rfc.fit(X_train,y_train)\n",
    "pre()"
   ]
  },
  {
   "cell_type": "code",
   "execution_count": 71,
   "metadata": {},
   "outputs": [],
   "source": [
    "predictions = pd.DataFrame()\n",
    "def pre():\n",
    "    predictions = rfc.predict(X_test)\n",
    "    return predictions\n",
    "predictions = pre()"
   ]
  },
  {
   "cell_type": "code",
   "execution_count": 72,
   "metadata": {},
   "outputs": [],
   "source": [
    "from sklearn.metrics import accuracy_score\n",
    "def pre():\n",
    "    print('Accuracy score for test data is :',accuracy_score(y_test,predictions))"
   ]
  },
  {
   "cell_type": "code",
   "execution_count": 73,
   "metadata": {},
   "outputs": [
    {
     "name": "stdout",
     "output_type": "stream",
     "text": [
      "                  Predicted Not_virus  Predicted virus\n",
      "Actual Not_virus                    3               24\n",
      "Actual virus                        0              116\n"
     ]
    }
   ],
   "source": [
    "from sklearn.metrics import confusion_matrix\n",
    "confusion_matrix = pd.DataFrame(confusion_matrix(y_test,predictions))\n",
    "def pre():\n",
    "    confusion_matrix.index = ['Actual Not_virus','Actual virus']\n",
    "    confusion_matrix.columns = ['Predicted Not_virus','Predicted virus']\n",
    "    print(confusion_matrix)\n",
    "pre()"
   ]
  },
  {
   "cell_type": "code",
   "execution_count": 74,
   "metadata": {},
   "outputs": [
    {
     "name": "stdout",
     "output_type": "stream",
     "text": [
      "Precision score for test data is : 0.8285714285714286\n"
     ]
    }
   ],
   "source": [
    "from sklearn.metrics import precision_score\n",
    "def pre():\n",
    "    precision = precision_score(y_test,predictions)\n",
    "    print('Precision score for test data is :',precision)\n",
    "    return precision\n",
    "precision = pre()"
   ]
  },
  {
   "cell_type": "code",
   "execution_count": 75,
   "metadata": {},
   "outputs": [
    {
     "name": "stdout",
     "output_type": "stream",
     "text": [
      "Recall score for test data : 1.0\n"
     ]
    }
   ],
   "source": [
    "from sklearn.metrics import recall_score\n",
    "def pre():\n",
    "    print('Recall score for test data :',recall_score(y_test,predictions))\n",
    "pre()\n",
    "    "
   ]
  },
  {
   "cell_type": "code",
   "execution_count": 76,
   "metadata": {},
   "outputs": [
    {
     "data": {
      "text/plain": [
       "0.666507024265645"
      ]
     },
     "execution_count": 76,
     "metadata": {},
     "output_type": "execute_result"
    }
   ],
   "source": [
    "from sklearn import metrics\n",
    "def pre():\n",
    "    probs = rfc.predict_proba(X_test)\n",
    "    preds = probs[:,1]\n",
    "    fpr,tpr, threshold = metrics.roc_curve(y_test, preds)\n",
    "    roc_auc = metrics.auc(fpr,tpr)\n",
    "    return roc_auc\n",
    "pre()"
   ]
  },
  {
   "cell_type": "code",
   "execution_count": 77,
   "metadata": {},
   "outputs": [],
   "source": [
    "from sklearn.ensemble import RandomForestClassifier\n",
    "def pre():\n",
    "    rf = RandomForestClassifier(criterion='entropy',n_estimators = 100, random_state = 0, max_depth = 2, min_samples_split=4, min_samples_leaf=3, max_leaf_nodes=5, class_weight='balanced')\n",
    "    return rf\n",
    "rf = pre()"
   ]
  },
  {
   "cell_type": "code",
   "execution_count": 78,
   "metadata": {},
   "outputs": [
    {
     "name": "stderr",
     "output_type": "stream",
     "text": [
      "<ipython-input-78-99f623122b4f>:2: DataConversionWarning: A column-vector y was passed when a 1d array was expected. Please change the shape of y to (n_samples,), for example using ravel().\n",
      "  return rf.fit(X_train,y_train)\n"
     ]
    },
    {
     "data": {
      "text/plain": [
       "RandomForestClassifier(class_weight='balanced', criterion='entropy',\n",
       "                       max_depth=2, max_leaf_nodes=5, min_samples_leaf=3,\n",
       "                       min_samples_split=4, random_state=0)"
      ]
     },
     "execution_count": 78,
     "metadata": {},
     "output_type": "execute_result"
    }
   ],
   "source": [
    "def pre():\n",
    "    return rf.fit(X_train,y_train)\n",
    "pre()\n"
   ]
  },
  {
   "cell_type": "code",
   "execution_count": 79,
   "metadata": {},
   "outputs": [],
   "source": [
    "predictions_new = pd.DataFrame()\n",
    "def pre():\n",
    "    predictions_new = rf.predict(X_test)\n",
    "    return predictions_new\n",
    "predictions_new = pre()"
   ]
  },
  {
   "cell_type": "code",
   "execution_count": 80,
   "metadata": {},
   "outputs": [],
   "source": [
    "from sklearn.metrics import accuracy_score\n",
    "def pre():\n",
    "    predictions_new = rf.predict(X_test)\n",
    "    return predictions_new\n",
    "predictions_new = pre()"
   ]
  },
  {
   "cell_type": "code",
   "execution_count": 81,
   "metadata": {},
   "outputs": [
    {
     "name": "stdout",
     "output_type": "stream",
     "text": [
      "F1 score for data is : 0.8384279475982533\n"
     ]
    }
   ],
   "source": [
    "from sklearn.metrics import f1_score\n",
    "def pre():\n",
    "    print('F1 score for data is :',f1_score(y_test,predictions_new))\n",
    "pre()"
   ]
  },
  {
   "cell_type": "code",
   "execution_count": 82,
   "metadata": {},
   "outputs": [],
   "source": [
    "from sklearn import metrics\n",
    "def pre():\n",
    "    predictions_new = rf.predict(X_test)\n",
    "    return predictions_new \n",
    "predictions_new = pre()"
   ]
  },
  {
   "cell_type": "code",
   "execution_count": 83,
   "metadata": {},
   "outputs": [
    {
     "name": "stdout",
     "output_type": "stream",
     "text": [
      "                  Predicted Not_virus  Predicted virus\n",
      "Actual Not_virus                   10               17\n",
      "Actual virus                       20               96\n"
     ]
    }
   ],
   "source": [
    "from sklearn.metrics import confusion_matrix\n",
    "confusion_matrix1 = pd.DataFrame(confusion_matrix(y_test, predictions_new))\n",
    "def pre():\n",
    "    confusion_matrix1.index = ['Actual Not_virus','Actual virus']\n",
    "    confusion_matrix1.columns = ['Predicted Not_virus','Predicted virus']     \n",
    "    print(confusion_matrix1)\n",
    "pre()"
   ]
  },
  {
   "cell_type": "code",
   "execution_count": 84,
   "metadata": {},
   "outputs": [
    {
     "name": "stdout",
     "output_type": "stream",
     "text": [
      "                  Predicted Not_virus  Predicted virus\n",
      "Actual Not_virus                   10               17\n",
      "Actual virus                       20               96\n"
     ]
    }
   ],
   "source": [
    "from sklearn.metrics import confusion_matrix\n",
    "confusion_matrix1 = pd.DataFrame(confusion_matrix(y_test,predictions_new))\n",
    "def pre():\n",
    "    confusion_matrix1.index = ['Actual Not_virus','Actual virus']\n",
    "    confusion_matrix1.columns = ['Predicted Not_virus','Predicted virus']\n",
    "    print(confusion_matrix1)\n",
    "pre()\n"
   ]
  },
  {
   "cell_type": "code",
   "execution_count": 85,
   "metadata": {},
   "outputs": [
    {
     "name": "stdout",
     "output_type": "stream",
     "text": [
      "Recall score for test data : 0.8275862068965517\n"
     ]
    }
   ],
   "source": [
    "from sklearn.metrics import recall_score\n",
    "def pre():\n",
    "    print('Recall score for test data :',recall_score(y_test,predictions_new))\n",
    "pre()"
   ]
  },
  {
   "cell_type": "code",
   "execution_count": 87,
   "metadata": {},
   "outputs": [
    {
     "data": {
      "text/plain": [
       "0.6280332056194126"
      ]
     },
     "execution_count": 87,
     "metadata": {},
     "output_type": "execute_result"
    }
   ],
   "source": [
    "from sklearn import metrics\n",
    "def pre():\n",
    "    probs = rf.predict_proba(X_test)\n",
    "    pred=probs[:,1]\n",
    "    fpr1,tpr1,threshold = metrics.roc_curve(y_test, pred)\n",
    "    roc_auc1 = metrics.auc(fpr1,tpr1)\n",
    "    return roc_auc1\n",
    "pre()"
   ]
  },
  {
   "cell_type": "code",
   "execution_count": 89,
   "metadata": {},
   "outputs": [
    {
     "name": "stdout",
     "output_type": "stream",
     "text": [
      "                  Predicted Not_virus  Actual Virus\n",
      "Actual Not_virus                   10            17\n",
      "Actual Virus                       20            96\n"
     ]
    }
   ],
   "source": [
    "from sklearn.metrics import recall_score\n",
    "precision1 = precision_score(y_test,predictions_new)\n",
    "def pre():\n",
    "    confusion_matrix1.index = ['Actual Not_virus','Actual Virus']\n",
    "    confusion_matrix1.columns=['Predicted Not_virus','Actual Virus']\n",
    "    print (confusion_matrix1)\n",
    "pre()\n",
    "   \n",
    "    "
   ]
  },
  {
   "cell_type": "code",
   "execution_count": null,
   "metadata": {},
   "outputs": [],
   "source": [
    "def pre():\n",
    "    difference_rfc = precision1 - precision\n",
    "    return difference_rfc\n",
    "pre)"
   ]
  },
  {
   "cell_type": "code",
   "execution_count": null,
   "metadata": {},
   "outputs": [],
   "source": []
  }
 ],
 "metadata": {
  "kernelspec": {
   "display_name": "Python 3",
   "language": "python",
   "name": "python3"
  },
  "language_info": {
   "codemirror_mode": {
    "name": "ipython",
    "version": 3
   },
   "file_extension": ".py",
   "mimetype": "text/x-python",
   "name": "python",
   "nbconvert_exporter": "python",
   "pygments_lexer": "ipython3",
   "version": "3.8.5"
  }
 },
 "nbformat": 4,
 "nbformat_minor": 4
}
